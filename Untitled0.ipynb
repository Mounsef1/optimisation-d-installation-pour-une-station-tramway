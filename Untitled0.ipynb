{
  "nbformat": 4,
  "nbformat_minor": 0,
  "metadata": {
    "colab": {
      "name": "Untitled0.ipynb",
      "provenance": [],
      "authorship_tag": "ABX9TyMNg1Y/+phY01+BDcDF9Yym",
      "include_colab_link": true
    },
    "kernelspec": {
      "name": "python3",
      "display_name": "Python 3"
    }
  },
  "cells": [
    {
      "cell_type": "markdown",
      "metadata": {
        "id": "view-in-github",
        "colab_type": "text"
      },
      "source": [
        "<a href=\"https://colab.research.google.com/github/Mounsef1/optimisation-d-installation-pour-une-station-tramway/blob/main/Untitled0.ipynb\" target=\"_parent\"><img src=\"https://colab.research.google.com/assets/colab-badge.svg\" alt=\"Open In Colab\"/></a>"
      ]
    },
    {
      "cell_type": "code",
      "metadata": {
        "id": "KRr00JemMI-2"
      },
      "source": [
        "import numpy as np\r\n",
        "from scipy.optimize import minimize\r\n",
        "global temps_entre_deux_voyage\r\n",
        "global trafic\r\n",
        "global wt_tram_dans_la_station\r\n",
        "global C1\r\n",
        "global C2\r\n",
        "global T1\r\n",
        "global T2\r\n",
        "global u3\r\n",
        "temps_entre_deux_voyage=24*60*60\r\n",
        "trafic=1220\r\n",
        "wt_tram_dans_la_station = 30\r\n",
        "C1 = 0.2 # pourcentage des personnes qui utiliserons DC1\r\n",
        "C2 = 1-C1 # pourcentage des personnes qui utiliserons DC2\r\n",
        "T1 = 5 # temps du process en DC1\r\n",
        "T2 = 10 # temps du process en DC2\r\n",
        "u3 = 1"
      ],
      "execution_count": 60,
      "outputs": []
    },
    {
      "cell_type": "code",
      "metadata": {
        "id": "sK0mPkJ2m2qY"
      },
      "source": [
        "def objective(x):\r\n",
        "  return x[0]+x[1]+x[2]+x[3]\r\n",
        "\r\n",
        "def fact(n):\r\n",
        "    \"\"\"fact(n): calcule la factorielle de n (entier >= 0)\"\"\"\r\n",
        "    if n==0:\r\n",
        "        x=1\r\n",
        "    else:\r\n",
        "        x=1\r\n",
        "        for i in range(int(n-1)):\r\n",
        "            x*=i\r\n",
        "        if x == 0:\r\n",
        "          x = 1\r\n",
        "    return float(x)\r\n",
        "\r\n",
        "def sigma(first, last, A):\r\n",
        "    sum = 0\r\n",
        "    for i in range(int(last-first + 1)):\r\n",
        "        sum += (A**(i+first))/fact(i+first)\r\n",
        "    return sum\r\n",
        "\r\n",
        "def waiting_time_G1(A):\r\n",
        "    u=1/40 #fréquence du serveur\r\n",
        "    lamda= trafic/temps_entre_deux_voyage #  fréquence moyenne d'arrivées\r\n",
        "    W=0\r\n",
        "    A1=lamda/u #trafic offert\r\n",
        "    sol = lamda/(A*u)\r\n",
        "    if sol > 1:\r\n",
        "        w=0\r\n",
        "        print(\"Condition non vérifiée \")\r\n",
        "    else:\r\n",
        "        P0 = 1/(sigma(0,A-1,A1)+A1**A/(fact(A)*(1-A1/A)))\r\n",
        "        Pa = (P0*(A1**A))/(fact(A-1)*(A-A1))\r\n",
        "        W = Pa/(u*(A-A1))\r\n",
        "    return W\r\n",
        "\r\n",
        "def waiting_time_G21(S,A):\r\n",
        "    u=1/5\r\n",
        "    u2=1/40\r\n",
        "    lamda= u2*A*C1\r\n",
        "    W=0\r\n",
        "    A1=lamda/u\r\n",
        "    sol = lamda/(S*u)\r\n",
        "    if sol > 1 :\r\n",
        "        print(\"ton systeme n'est pas solvable\")\r\n",
        "    else:\r\n",
        "        print(\"ton systeme est solvable\")\r\n",
        "        P0 = 1/(sigma(0,S-1,A1)+A1**S/(fact(S)*(1-A1/S)))\r\n",
        "        Pa = (P0*(A1**S))/(fact(S-1)*(S-A1))\r\n",
        "        W = Pa/(u*(S-A1))\r\n",
        "    return W\r\n",
        "\r\n",
        "def waiting_time_G22(S,A):\r\n",
        "    u=1/10\r\n",
        "    u2=1/40\r\n",
        "    lamda= u2*A*C2\r\n",
        "    W=0\r\n",
        "    A1=lamda/u\r\n",
        "    sol = lamda/(S*u)\r\n",
        "    if sol > 1:\r\n",
        "        print(\"ton systeme n'est pas solvable\")\r\n",
        "    else:\r\n",
        "        print(\"ton systeme est solvable\")\r\n",
        "       # print(S)\r\n",
        "        P0 = 1/(sigma(0,S-1,A1)+A1**S/(fact(S)*(1-A1/S)))\r\n",
        "        Pa = (P0*(A1**S))/(fact(S-1)*(S-A1))\r\n",
        "        W = Pa/(u*(S-A1))\r\n",
        "    return W\r\n",
        "\r\n",
        "\r\n",
        "def waiting_time_G4(S3):\r\n",
        "    ac_tram = int(trafic/(u3*S3))\r\n",
        "    reste = trafic - ac_tram*u3*S3\r\n",
        "    w3 = 0\r\n",
        "    for i in range(0,ac_tram):\r\n",
        "        w3 += i*u3*S3\r\n",
        "    w3 += reste*(ac_tram+1)\r\n",
        "    w3 = w3/trafic\r\n",
        "    if reste > 0:\r\n",
        "        dd = ac_tram+1\r\n",
        "    else:\r\n",
        "        dd = ac_tram\r\n",
        "    print('le tram doit attendre')\r\n",
        "    print(dd)\r\n",
        "    return w3\r\n",
        "\r\n",
        "def constraint1(x):\r\n",
        "  return waiting_time_G1(x[0]) + waiting_time_G21(x[1],x[0]) + waiting_time_G22(x[2],x[0]) - ( 60 - waiting_time_G4(x[3]) )\r\n",
        "\r\n",
        "def constraint2(x):\r\n",
        "  return x[3] - 6\r\n",
        "\r\n"
      ],
      "execution_count": 61,
      "outputs": []
    },
    {
      "cell_type": "code",
      "metadata": {
        "id": "qdJQWMZkod7C"
      },
      "source": [
        "def det_A():\r\n",
        "    landa = trafic/temps_entre_deux_voyage\r\n",
        "    mu = 1/40\r\n",
        "    ss = 1\r\n",
        "    t = True\r\n",
        "    while t == True:\r\n",
        "        hh = landa/(mu*ss)\r\n",
        "        if hh < 1:\r\n",
        "            t = False\r\n",
        "        else:\r\n",
        "            ss = ss + 1\r\n",
        "    return int(ss)\r\n",
        "\r\n",
        "\r\n",
        "def det1(A):\r\n",
        "    u=1/40 #frequence du serveur\r\n",
        "    lamda= trafic/temps_entre_deux_voyage #  fréquence moyenne d'arrivées\r\n",
        "    W=0\r\n",
        "    A1=lamda/u #trafic offert\r\n",
        "    sol = lamda/(A*u)\r\n",
        "    if sol > 1:\r\n",
        "        w=0\r\n",
        "    else:\r\n",
        "        D1 = u*C1*T1*A\r\n",
        "        DD = int(D1)\r\n",
        "        if D1 == DD:\r\n",
        "            D1 = DD\r\n",
        "        else:\r\n",
        "          D1 = DD + 1\r\n",
        "    return int(D1)\r\n",
        "\r\n",
        "\r\n",
        "\r\n",
        "def det2(A):\r\n",
        "    u=1/40 #frequence du serveur\r\n",
        "    lamda= trafic/temps_entre_deux_voyage #  fréquence moyenne d'arrivées\r\n",
        "    W=0\r\n",
        "    A1=lamda/u #trafic offert\r\n",
        "    sol = lamda/(A*u)\r\n",
        "    if sol > 1:\r\n",
        "        W=0\r\n",
        "    else:\r\n",
        "        D2 = u*C2*T2*A\r\n",
        "        DD = int(D2)\r\n",
        "        if D2 == DD:\r\n",
        "           D2 = DD\r\n",
        "        else:\r\n",
        "          D2 = DD + 1\r\n",
        "    return int(D2)\r\n",
        "\r\n",
        "t = det_A()\r\n",
        "x0 = [det_A(), det1(t), det2(t), 6]\r\n",
        "b1 = (1, 7)\r\n",
        "\r\n",
        "bnds = ((det_A(), det_A()+3), (det1(t),det1(t)+3), (det2(t), det1(t)+3), (6,6))\r\n",
        "\r\n",
        "con1 = {'type': 'ineq', 'fun':constraint1}\r\n",
        "con2 = {'type': 'eq', 'fun':constraint2}\r\n",
        "cons = [con1, con2]\r\n",
        "\r\n",
        "\r\n",
        "\r\n"
      ],
      "execution_count": 62,
      "outputs": []
    },
    {
      "cell_type": "code",
      "metadata": {
        "colab": {
          "base_uri": "https://localhost:8080/"
        },
        "id": "f3G5JuBhK-95",
        "outputId": "5abe3d02-6899-4022-fea0-be417388c241"
      },
      "source": [
        "sol = minimize(objective, x0, method='SLSQP', \\\r\n",
        "               bounds = bnds, constraints=cons)"
      ],
      "execution_count": 63,
      "outputs": [
        {
          "output_type": "stream",
          "text": [
            "ton systeme est solvable\n",
            "ton systeme est solvable\n",
            "le tram doit attendre\n",
            "204\n",
            "ton systeme est solvable\n",
            "ton systeme est solvable\n",
            "le tram doit attendre\n",
            "204\n",
            "ton systeme est solvable\n",
            "ton systeme est solvable\n",
            "le tram doit attendre\n",
            "204\n",
            "ton systeme est solvable\n",
            "ton systeme est solvable\n",
            "le tram doit attendre\n",
            "204\n",
            "ton systeme est solvable\n",
            "ton systeme est solvable\n",
            "le tram doit attendre\n",
            "204\n",
            "ton systeme est solvable\n",
            "ton systeme est solvable\n",
            "le tram doit attendre\n",
            "204\n",
            "ton systeme est solvable\n",
            "ton systeme est solvable\n",
            "le tram doit attendre\n",
            "204\n"
          ],
          "name": "stdout"
        }
      ]
    },
    {
      "cell_type": "code",
      "metadata": {
        "colab": {
          "base_uri": "https://localhost:8080/"
        },
        "id": "zn48dthaQ0k7",
        "outputId": "f9a2252c-e025-4762-a7b9-09aff4bbef2b"
      },
      "source": [
        "sol.x"
      ],
      "execution_count": 64,
      "outputs": [
        {
          "output_type": "execute_result",
          "data": {
            "text/plain": [
              "array([1., 1., 1., 6.])"
            ]
          },
          "metadata": {
            "tags": []
          },
          "execution_count": 64
        }
      ]
    },
    {
      "cell_type": "code",
      "metadata": {
        "colab": {
          "base_uri": "https://localhost:8080/"
        },
        "id": "VtDlWkkpTVL-",
        "outputId": "d63dd254-6634-4358-c988-458c9d11ffcc"
      },
      "source": [
        "c = waiting_time_G1(7) + waiting_time_G21(1,7) + waiting_time_G22(2,7) + waiting_time_G4(6) \r\n",
        "print(c)"
      ],
      "execution_count": 54,
      "outputs": [
        {
          "output_type": "stream",
          "text": [
            "ton systeme est solvable\n",
            "ton systeme est solvable\n",
            "le tram doit attendre\n",
            "17\n",
            "32.03513366584088\n"
          ],
          "name": "stdout"
        }
      ]
    }
  ]
}